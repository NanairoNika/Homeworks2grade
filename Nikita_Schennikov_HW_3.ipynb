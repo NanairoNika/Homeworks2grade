{
 "cells": [
  {
   "cell_type": "code",
   "execution_count": 1,
   "metadata": {
    "collapsed": false
   },
   "outputs": [
    {
     "name": "stderr",
     "output_type": "stream",
     "text": [
      "C:\\Users\\User\\Anaconda3\\lib\\site-packages\\gensim\\utils.py:1197: UserWarning: detected Windows; aliasing chunkize to chunkize_serial\n",
      "  warnings.warn(\"detected Windows; aliasing chunkize to chunkize_serial\")\n"
     ]
    }
   ],
   "source": [
    "import sys\n",
    "import gensim, logging\n",
    "import networkx as nx\n",
    "\n",
    "logging.basicConfig(format='%(asctime)s : %(levelname)s : %(message)s', level=logging.INFO)\n"
   ]
  },
  {
   "cell_type": "code",
   "execution_count": 2,
   "metadata": {
    "collapsed": false
   },
   "outputs": [],
   "source": [
    "m = 'ruscorpora_upos_skipgram_300_5_2018.vec.gz'\n",
    "if m.endswith('.vec.gz'):\n",
    "    model = gensim.models.KeyedVectors.load_word2vec_format(m, binary=False)\n",
    "elif m.endswith('.bin.gz'):\n",
    "    model = gensim.models.KeyedVectors.load_word2vec_format(m, binary=True)\n",
    "else:\n",
    "    model = gensim.models.KeyedVectors.load(m)\n"
   ]
  },
  {
   "cell_type": "code",
   "execution_count": 4,
   "metadata": {
    "collapsed": false,
    "scrolled": true
   },
   "outputs": [
    {
     "name": "stdout",
     "output_type": "stream",
     "text": [
      "[['омнибус_NOUN', 0.6801046133041382], ['фиакр_NOUN', 0.6322940587997437], ['мальпост_NOUN', 0.6111605763435364], ['карета_NOUN', 0.5897608995437622], ['извозчичий_NOUN', 0.5841525793075562], ['кэб_NOUN', 0.5836452841758728], ['дормез_NOUN', 0.5836392045021057], ['четверень_NOUN', 0.5721981525421143], ['рыдван_VERB', 0.5692624449729919], ['четвероместный_ADJ', 0.5679874420166016], ['перекладной_ADJ', 0.5640696287155151], ['тарантасик_NOUN', 0.5628570914268494], ['кеб_NOUN', 0.5603752136230469], ['фаэтон_NOUN', 0.5559254884719849], ['автобусяча_NOUN', 0.5539301633834839], ['извозчик_NOUN', 0.5527248978614807], ['тарантас_NOUN', 0.5516341924667358], ['капштат_PROPN', 0.5496295690536499], ['кибиточка_NOUN', 0.549149751663208], ['лисс_NOUN', 0.5440789461135864], ['шафгаузен_PROPN', 0.5435368418693542], ['конка_NOUN', 0.5412428379058838], ['курьерский_ADJ', 0.5368261337280273], ['бричка_NOUN', 0.5363203883171082], ['ветурино_NOUN', 0.5353865027427673], ['запряживать_VERB', 0.5352025032043457], ['коляска_NOUN', 0.5349088907241821], ['ландо_NOUN', 0.5348584651947021], ['поезд_ADV', 0.533970057964325], ['перепрягать_VERB', 0.5310103893280029], ['рыдван_NOUN', 0.5296414494514465], ['кошева_NOUN', 0.5293926000595093], ['ландо_ADV', 0.5293862223625183], ['четверень_ADJ', 0.5256979465484619], ['ямщик_NOUN', 0.5255963206291199], ['тарантас_ADV', 0.525131106376648], ['дрожки_NOUN', 0.5226318836212158], ['седоки_NOUN', 0.5221900343894958], ['окуловка_PROPN', 0.5212819576263428], ['троечный_ADJ', 0.520485520362854], ['долгуша_NOUN', 0.5203558802604675], ['пошевень_NOUN', 0.5201165080070496], ['поезд_NOUN', 0.5193566083908081], ['перекладной_NOUN', 0.519285261631012], ['шевалдышев_PROPN', 0.518547534942627], ['одноколка_NOUN', 0.5183360576629639], ['повозка_NOUN', 0.5174763202667236], ['триент_PROPN', 0.5170164108276367], ['порожне_NOUN', 0.5153664350509644], ['запяткай_NOUN', 0.5151802897453308], ['шарабан_NOUN', 0.5149867534637451], ['кучер_NOUN', 0.514981210231781], ['калгана_PROPN', 0.5140043497085571], ['бамберг_PROPN', 0.5134541392326355], ['казатина_PROPN', 0.5117102861404419], ['карета_VERB', 0.5101537704467773], ['возок_PROPN', 0.509191632270813], ['извощик_NOUN', 0.5089887380599976], ['провез_VERB', 0.5082860589027405], ['запряжать_VERB', 0.507159948348999], ['тепик_PROPN', 0.505789577960968], ['кал_PROPN', 0.5053346157073975], ['матвей::матвеич_PROPN', 0.5050423741340637], ['фурман_NOUN', 0.5047686696052551], ['малинов_PROPN', 0.504271388053894], ['курьерский_NOUN', 0.5041497945785522], ['hotel_PROPN', 0.50380539894104], ['автобус_NOUN', 0.5036641955375671], ['подорожная_NOUN', 0.5036370754241943], ['колымагй_NOUN', 0.5034472942352295], ['таратаек_NOUN', 0.5029425621032715], ['тарантаса_NOUN', 0.5028249025344849], ['фриски_PROPN', 0.5020428895950317], ['проселкий_NOUN', 0.5018365383148193], ['возок_NOUN', 0.5017703771591187], ['баден_ADJ', 0.5017465353012085], ['форейтор_NOUN', 0.5015637874603271], ['долгушка_NOUN', 0.5012964010238647], ['товаро-пассажирский_ADJ', 0.5010117292404175], ['портшез_NOUN', 0.5007256269454956], ['пролетка_NOUN', 0.5006760954856873]]\n"
     ]
    }
   ],
   "source": [
    "word = \"дилижанс_NOUN\"\n",
    "data = []\n",
    "for i in model.most_similar(positive=[word], topn=195000):\n",
    "    if (i[1] >= 0.5):\n",
    "        data.append([i[0],i[1]])\n",
    "print(data)"
   ]
  },
  {
   "cell_type": "code",
   "execution_count": 18,
   "metadata": {
    "collapsed": false
   },
   "outputs": [
    {
     "data": {
      "text/plain": [
       "0.5"
      ]
     },
     "execution_count": 18,
     "metadata": {},
     "output_type": "execute_result"
    }
   ],
   "source": [
    "2/4"
   ]
  },
  {
   "cell_type": "code",
   "execution_count": 5,
   "metadata": {
    "collapsed": false
   },
   "outputs": [],
   "source": [
    "G = nx.Graph()\n",
    "word = word[:-4]\n",
    "G.add_node(str(word), label=word)\n",
    "for lemma in data:\n",
    "    G.add_node(lemma[0], label=lemma[0])\n",
    "    G.add_edge(str(word), lemma[0], weight=lemma[1])"
   ]
  },
  {
   "cell_type": "code",
   "execution_count": null,
   "metadata": {
    "collapsed": true
   },
   "outputs": [],
   "source": [
    "import matplotlib.pyplot as plt \n",
    "\n",
    "# для начала надо выбрать способ \"укладки\" графа. Их много, возьмём для начала такой:\n",
    "pos=nx.spring_layout(G)\n",
    "\n",
    "nx.draw_networkx_nodes(G, pos, node_color='red', node_size=50) # рисуем узлы красным цветом, задаём размер узла\n",
    "nx.draw_networkx_edges(G, pos, edge_color='yellow') # рисуем рёбра жёлтым\n",
    "plt.axis('off') # по умолчанию график будет снабжён осями с координатами, здесь они бессмысленны, так что отключаем\n",
    "plt.show() # что получилось?"
   ]
  },
  {
   "cell_type": "code",
   "execution_count": null,
   "metadata": {
    "collapsed": true
   },
   "outputs": [],
   "source": [
    "\n",
    "deg = nx.degree_centrality(G)\n",
    "for nodeid in sorted(deg, key=deg.get, reverse=True):\n",
    "    print(nodeid)\n",
    "print(nx.radius(G))\n",
    "print(nx.degree_pearson_correlation_coefficient(G))"
   ]
  }
 ],
 "metadata": {
  "anaconda-cloud": {},
  "kernelspec": {
   "display_name": "Python [Root]",
   "language": "python",
   "name": "Python [Root]"
  },
  "language_info": {
   "codemirror_mode": {
    "name": "ipython",
    "version": 3
   },
   "file_extension": ".py",
   "mimetype": "text/x-python",
   "name": "python",
   "nbconvert_exporter": "python",
   "pygments_lexer": "ipython3",
   "version": "3.5.2"
  }
 },
 "nbformat": 4,
 "nbformat_minor": 0
}

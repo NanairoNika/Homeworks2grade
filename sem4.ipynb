{
 "cells": [
  {
   "cell_type": "code",
   "execution_count": 4,
   "metadata": {},
   "outputs": [],
   "source": [
    "import numpy as np"
   ]
  },
  {
   "cell_type": "markdown",
   "metadata": {
    "collapsed": true
   },
   "source": [
    "## Семинар №3. Повторяем scikit-learn. Алгоритм k-NN.\n",
    "\n",
    "На этом семинаре мы начнём изучать самую популярную библиотеку для машинного обучения, а именно scikit-learn.\n",
    "Здесь написано огромное число базовых функций и алгоритмов. У них понятный интерфейс, поэтому использовать их очень просто.\n",
    "\n"
   ]
  },
  {
   "cell_type": "markdown",
   "metadata": {},
   "source": [
    "### Об интерфейсе алгоритмов\n",
    "\n",
    "Алгоритмы в sklearn'е — это  классы языка питон. У них могут быть методы:\n",
    "\n",
    "**```fit(X_train, y_train)```** или **```fit(X_train)```**. \n",
    "\n",
    "Здесь ```X_train``` — это объекты обучающей выборки, то есть числовая матрица «объекты × признаки», а ```y_train``` — это вектор ответов. В методе ```fit``` происходит _обучение алгоритма_, то есть нахождение его _параметров_.\n",
    "\n",
    "Алгоритмы обучения без учителя на вход получают только матрицу «объекты × признаки», а алгоритмы обучения с учителем ещё и ответы на этих объектах.\n",
    "\n",
    "**```predict(X_test)```** — построение прогноза для тестовой выборки. Здесь ```X_test``` — это тоже матрица «объекты × признаки», но только уже для объектов тестовой выборки. \n",
    "\n",
    "Многие алгоритмы классификации умеют ещё и строить оценку вероятности принадлежности объекта заданному классу. Эти вероятности можно получить, вызвав **```predict_proba(X_test)```**.\n",
    "\n",
    "Кроме алгоритмов классификации, регрессии и кластеризации в sklearn есть и другие: для предобработки данных, извлечения и отбора признаков или уменьшения признакового пространства. Для них вместо метода ```predict``` реализован метод **```transform(X)```**.\n",
    "\n",
    "На работу алгоритма влияют две сущности:\n",
    "* параметры, которые алгоритм настраивает сам,\n",
    "* гиперпараметры, которые алгоритм не может настроить сам — ему нужно помочь. Гиперпараметры нужно определить при создании класса и передать в конструктор класса.\n",
    "\n",
    "Давайте проверим, что всё работает. \n",
    "\n",
    "Сначала искусственно создадим данные (для задачи двухклассовой классификации):"
   ]
  },
  {
   "cell_type": "code",
   "execution_count": 5,
   "metadata": {},
   "outputs": [],
   "source": [
    "X_train = np.array([\n",
    "        [3, 9],\n",
    "        [2, 8],\n",
    "        [4, 8],\n",
    "        [3, 7],\n",
    "        [4, 7],\n",
    "        [2, 6],\n",
    "        [8, 3],\n",
    "        [1, 8],\n",
    "        [2, 7],\n",
    "        [6, 3],\n",
    "        [7, 2],\n",
    "        [7, 3],\n",
    "        [7, 4],\n",
    "        [8, 5]])\n",
    "y_train = np.array([1, 1, 1, 1, 1, 1, 1, 0, 0, 0, 0, 0, 0, 0])\n",
    "X_test = np.array([\n",
    "        [3, 8],\n",
    "        [1, 7],\n",
    "        [6, 2],\n",
    "        [8, 4]])\n",
    "y_test = np.array([1, 1, 0, 0])"
   ]
  },
  {
   "cell_type": "markdown",
   "metadata": {},
   "source": [
    "... и нарисуем картинку:"
   ]
  },
  {
   "cell_type": "code",
   "execution_count": 6,
   "metadata": {},
   "outputs": [
    {
     "data": {
      "text/plain": [
       "<matplotlib.collections.PathCollection at 0x111dba550>"
      ]
     },
     "execution_count": 6,
     "metadata": {},
     "output_type": "execute_result"
    },
    {
     "data": {
      "image/png": "[encoded data removed]",
      "text/plain": [
       "<matplotlib.figure.Figure at 0x111bd1e10>"
      ]
     },
     "metadata": {},
     "output_type": "display_data"
    }
   ],
   "source": [
    "# Строчка, чтобы графики отображались в ноутбуке:\n",
    "%matplotlib inline\n",
    "# Вызов библиотеки:\n",
    "import matplotlib.pyplot as plt\n",
    "\n",
    "# Нарисуем точки из обучающей выборки:\n",
    "plt.scatter(x=X_train[:, 0], y=X_train[:, 1], c=y_train, s=100)"
   ]
  },
  {
   "cell_type": "markdown",
   "metadata": {},
   "source": [
    "Попробуйте сами ответить, как отработает алгоритм трёх ближайших соседей с евклидовой метрикой."
   ]
  },
  {
   "cell_type": "code",
   "execution_count": 7,
   "metadata": {},
   "outputs": [],
   "source": [
    "X_test = np.array([\n",
    "        [3, 8],\n",
    "        [1, 7],\n",
    "        [6, 2],\n",
    "        [8, 4]])"
   ]
  },
  {
   "cell_type": "markdown",
   "metadata": {},
   "source": [
    "Теперь можно запускать классификатор. Чтобы найти, как называется и где лежит нужный алгоритм в sklearn'е, нужно просто погуглить. Запрос «k nearest neighbors classification scikit-learn» приведёт нас на [нужную страницу](http://scikit-learn.org/stable/modules/generated/sklearn.neighbors.KNeighborsClassifier.html#sklearn.neighbors.KNeighborsClassifier). Можем импортировать алгоритм:"
   ]
  },
  {
   "cell_type": "code",
   "execution_count": 8,
   "metadata": {},
   "outputs": [],
   "source": [
    "from sklearn.neighbors import KNeighborsClassifier"
   ]
  },
  {
   "cell_type": "markdown",
   "metadata": {},
   "source": [
    "Теперь создаём классификатор — объект класса KNeighborsClassifier. В круглых скобочках передаём гиперпараметры алгоритма. Значения гиперапараметров пока возьмём «с потолка»: ```metric='euclidean'``` и ```n_neighbors=3```."
   ]
  },
  {
   "cell_type": "code",
   "execution_count": 9,
   "metadata": {},
   "outputs": [],
   "source": [
    "clf = KNeighborsClassifier(n_neighbors=3, metric='euclidean')"
   ]
  },
  {
   "cell_type": "markdown",
   "metadata": {},
   "source": [
    "Запускаем метод ```fit``` для обучения алгоритма:"
   ]
  },
  {
   "cell_type": "code",
   "execution_count": 10,
   "metadata": {},
   "outputs": [
    {
     "data": {
      "text/plain": [
       "KNeighborsClassifier(algorithm='auto', leaf_size=30, metric='euclidean',\n",
       "           metric_params=None, n_jobs=1, n_neighbors=3, p=2,\n",
       "           weights='uniform')"
      ]
     },
     "execution_count": 10,
     "metadata": {},
     "output_type": "execute_result"
    }
   ],
   "source": [
    "clf.fit(X_train, y_train)"
   ]
  },
  {
   "cell_type": "markdown",
   "metadata": {},
   "source": [
    "Теперь запускаем метод ```predict``` для получения ответа алгоритма на тестовой выборке:"
   ]
  },
  {
   "cell_type": "code",
   "execution_count": 11,
   "metadata": {},
   "outputs": [
    {
     "data": {
      "text/plain": [
       "array([1, 0, 0, 0])"
      ]
     },
     "execution_count": 11,
     "metadata": {},
     "output_type": "execute_result"
    }
   ],
   "source": [
    "y_pred = clf.predict(X_test)\n",
    "y_pred"
   ]
  },
  {
   "cell_type": "markdown",
   "metadata": {},
   "source": [
    "Ура! Мы обучили первый классификатор! Вместо ```KNeighborsClassifier``` можно взять любой другой алгоритм классификации, поменяв в коде лишь названия и значения гиперпараметров.\n",
    "\n",
    "Осталось измерить качество полученного алгоритма. Самый простой способ — посчитать долю правильных ответов. Для этого в ```sklearn.metrics``` есть функция ```accuracy_score```."
   ]
  },
  {
   "cell_type": "code",
   "execution_count": 180,
   "metadata": {},
   "outputs": [
    {
     "data": {
      "text/plain": [
       "0.75"
      ]
     },
     "execution_count": 180,
     "metadata": {},
     "output_type": "execute_result"
    }
   ],
   "source": [
    "from sklearn.metrics import accuracy_score\n",
    "\n",
    "accuracy_score(y_true=y_test, y_pred=y_pred)"
   ]
  },
  {
   "cell_type": "markdown",
   "metadata": {},
   "source": [
    "То же самое можно сделать в numpy так:"
   ]
  },
  {
   "cell_type": "code",
   "execution_count": 181,
   "metadata": {},
   "outputs": [
    {
     "data": {
      "text/plain": [
       "0.75"
      ]
     },
     "execution_count": 181,
     "metadata": {},
     "output_type": "execute_result"
    }
   ],
   "source": [
    "np.mean(y_test == y_pred) # По умолчанию True — это 1, а False — 0"
   ]
  },
  {
   "cell_type": "markdown",
   "metadata": {},
   "source": [
    "### О разделении выборки на обучение и контроль\n",
    "\n",
    "В реальной жизни часто нет готового разбиения всей выборки на обучающую и контрольную: есть только X и y — выборку надо разбить. Но перед этим её нужно случайно перемешать (почему?), а потом поделить в нужной пропорции.\n",
    "\n",
    "В стародавние времена эту рутинную операцию нужно было писать своими руками, но теперь есть функция ```train_test_split``` из ```sklearn.model_selection```."
   ]
  },
  {
   "cell_type": "code",
   "execution_count": 14,
   "metadata": {},
   "outputs": [],
   "source": [
    "from sklearn.model_selection import train_test_split\n",
    "\n",
    "# Склеим данные обратно:\n",
    "X = np.vstack([X_train, X_test])\n",
    "y = np.hstack([y_train, y_test])\n",
    "\n",
    "# Построим новое разбиение на обучение и контроль\n",
    "X_train_new, X_test_new, y_train_new, y_test_new = train_test_split(\n",
    "    X, y, test_size=0.3, random_state=42)"
   ]
  },
  {
   "cell_type": "markdown",
   "metadata": {},
   "source": [
    "Здесь важно указывать ```random_state```, чтобы каждый раз генерировалась одинаковая последовательность псевдослучайных чисел."
   ]
  },
  {
   "cell_type": "markdown",
   "metadata": {
    "collapsed": true
   },
   "source": [
    "### Кросс - валидация"
   ]
  },
  {
   "cell_type": "code",
   "execution_count": 15,
   "metadata": {},
   "outputs": [],
   "source": [
    "from sklearn.model_selection import cross_val_score"
   ]
  },
  {
   "cell_type": "code",
   "execution_count": 18,
   "metadata": {},
   "outputs": [
    {
     "data": {
      "text/plain": [
       "0.75"
      ]
     },
     "execution_count": 18,
     "metadata": {},
     "output_type": "execute_result"
    }
   ],
   "source": [
    "knn = KNeighborsClassifier(n_neighbors=3, metric='euclidean')\n",
    "np.mean(cross_val_score(knn, X, y, scoring = 'accuracy', cv=5))"
   ]
  },
  {
   "cell_type": "code",
   "execution_count": null,
   "metadata": {},
   "outputs": [],
   "source": []
  }
 ],
 "metadata": {
  "kernelspec": {
   "display_name": "Python 3",
   "language": "python",
   "name": "python3"
  },
  "language_info": {
   "codemirror_mode": {
    "name": "ipython",
    "version": 3
   },
   "file_extension": ".py",
   "mimetype": "text/x-python",
   "name": "python",
   "nbconvert_exporter": "python",
   "pygments_lexer": "ipython3",
   "version": "3.6.3"
  }
 },
 "nbformat": 4,
 "nbformat_minor": 1
}
